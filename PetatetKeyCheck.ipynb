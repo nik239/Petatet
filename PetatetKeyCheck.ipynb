{
 "cells": [
  {
   "cell_type": "code",
   "execution_count": 1,
   "id": "04f5865b-cacb-48c8-9c36-e9cde1770a79",
   "metadata": {},
   "outputs": [],
   "source": [
    "import asyncio\n",
    "import requests\n",
    "import json"
   ]
  },
  {
   "cell_type": "code",
   "execution_count": 2,
   "id": "ae000d0f-3f09-42d3-902d-291ebff51c38",
   "metadata": {},
   "outputs": [],
   "source": [
    "serverKey = \"3aca72d520a9dbee8ba5d0f34fd3436d\"  \n",
    "\n",
    "async def get_info():\n",
    "    try:\n",
    "        request_url = \"https://petatet.org/api/get-site-settings\"\n",
    "        headers = {\"Content-Type\": \"application/json\"}\n",
    "        credentials = {\"server_key\": serverKey}\n",
    "        response = await asyncio.to_thread(\n",
    "            requests.post, request_url, headers=headers, json=credentials\n",
    "        )\n",
    "        return handle_response(response)\n",
    "    except Exception as e:\n",
    "        print(f\"An error occurred: {e}\")\n",
    "        return None\n",
    "\n",
    "def handle_response(response):\n",
    "    if response.status_code == 200:\n",
    "        try:\n",
    "            json_data = response.json()\n",
    "            return json_data\n",
    "        except json.JSONDecodeError:\n",
    "            raise Exception(\"Failed to decode JSON\")\n",
    "    else:\n",
    "        raise Exception(f\"Server responded with error: {response.status_code}\")"
   ]
  },
  {
   "cell_type": "code",
   "execution_count": 3,
   "id": "1bd3ec85-4f1d-42f2-b1d6-d7a978a8d135",
   "metadata": {},
   "outputs": [
    {
     "name": "stdout",
     "output_type": "stream",
     "text": [
      "{'api_status': '404', 'errors': {'error_id': '1', 'error_text': 'Error: 404 POST (server_key) not specified, Admin Panel > API Settings > Manage API Server Key'}}\n"
     ]
    }
   ],
   "source": [
    "print(await get_info())"
   ]
  },
  {
   "cell_type": "code",
   "execution_count": null,
   "id": "1410f5e1-96e6-43af-a22c-595ccb64a98e",
   "metadata": {},
   "outputs": [],
   "source": []
  }
 ],
 "metadata": {
  "kernelspec": {
   "display_name": "Python 3 (ipykernel)",
   "language": "python",
   "name": "python3"
  },
  "language_info": {
   "codemirror_mode": {
    "name": "ipython",
    "version": 3
   },
   "file_extension": ".py",
   "mimetype": "text/x-python",
   "name": "python",
   "nbconvert_exporter": "python",
   "pygments_lexer": "ipython3",
   "version": "3.11.0rc2"
  }
 },
 "nbformat": 4,
 "nbformat_minor": 5
}
